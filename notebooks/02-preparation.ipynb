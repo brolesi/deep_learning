{
 "cells": [
  {
   "cell_type": "markdown",
   "id": "87763949-f900-4961-b17d-593b9f252ed5",
   "metadata": {},
   "source": [
    "# Preparation\n",
    "\n",
    "Rename the original image files to `00X_YYYYY.png`, where `X` is the class in `0`, `1` , ... , `8` and `YYYYY` is the\n",
    "number of the image in the class. By reading the file names in the notebook, split the dataset into training,\n",
    "validation, and test sets for the experiments, which will constitute the first version of the dataset."
   ]
  },
  {
   "cell_type": "markdown",
   "id": "c4a0b229-1465-452e-ac54-21bd33a8468d",
   "metadata": {},
   "source": [
    "For the\n",
    "second version of the dataset, create pairs of images from the same class and image pairs from distinct classes.\n",
    "This task can also be created from the first version’s training, validation, and test sets, generating a second\n",
    "version of training, validation, and test sets for pairwise comparison. While the target values in the first version\n",
    "are the class numbers, X, the target values in the second version are either 0 (same class) or 1 (distinct classes)."
   ]
  },
  {
   "cell_type": "code",
   "execution_count": 7,
   "id": "5a94cdbd",
   "metadata": {
    "ExecuteTime": {
     "end_time": "2023-06-05T08:29:47.208586Z",
     "start_time": "2023-06-05T08:29:47.157730Z"
    }
   },
   "outputs": [
    {
     "ename": "SyntaxError",
     "evalue": "invalid syntax (1685503874.py, line 1)",
     "output_type": "error",
     "traceback": [
      "\u001b[1;36m  Cell \u001b[1;32mIn[7], line 1\u001b[1;36m\u001b[0m\n\u001b[1;33m    DO NOT USE\u001b[0m\n\u001b[1;37m       ^\u001b[0m\n\u001b[1;31mSyntaxError\u001b[0m\u001b[1;31m:\u001b[0m invalid syntax\n"
     ]
    }
   ],
   "source": [
    "DO NOT USE\n",
    "#%% FOR NA FISH DATASET\n",
    "import os\n",
    "import shutil\n",
    "from PIL import Image\n",
    "\n",
    "fishes = {\n",
    "'Black Sea Sprat': '000',\n",
    "'Gilt Head Bream': '001',\n",
    "'Horse Mackerel': '002',\n",
    "'Red Mullet': '003',\n",
    "'Red Sea Bream': '004',\n",
    "'Sea Bass': '005',\n",
    "'Shrimp': '006',\n",
    "'Striped Red Mullet': '007',\n",
    "'Trout': '008'\n",
    "}\n",
    "\n",
    "HAS_LIMIT = True\n",
    "\n",
    "HAS_MASK = True\n",
    "# set the source directory path, the destination directory path, the name of the folder to exclude, and the desired file extension\n",
    "source_directory_path = '../data/raw/NA_Fish_Dataset'\n",
    "destination_directory_path = '../data/raw/ALL_FISHES_DATASET'\n",
    "destination_mask_directory_path = '../data/raw/ALL_FISHES_DATASET'\n",
    "\n",
    "folder_to_exclude = 'GT'\n",
    "folder_mask = 'GT'\n",
    "mask_folder_list = []\n",
    "file_extension = '.png'\n",
    "\n",
    "# create the destination directory if it does not exist\n",
    "if not os.path.exists(destination_directory_path):\n",
    "    os.makedirs(destination_directory_path)\n",
    "\n",
    "# traverse the source directory tree and select files\n",
    "for root, dirs, files in os.walk(source_directory_path):\n",
    "    # exclude the folder with the desired name\n",
    "    if folder_to_exclude in dirs:\n",
    "        print(folder_to_exclude)\n",
    "        mask_folder_list.append(folder_to_exclude)\n",
    "        dirs.remove(folder_to_exclude)\n",
    "    for file in files:\n",
    "        # check if file extension matches desired extension and if filename does not belong to the excluded folder\n",
    "        if file.endswith(file_extension) and folder_to_exclude not in root:\n",
    "            # construct the source file path and the destination file path with the desired new name\n",
    "            source_file_path = os.path.join(root, file)\n",
    "            tmp_filename = root.split(os.sep)\n",
    "            #fishes[tmp_filename[len(tmp_filename) - 1]] + '_' +\n",
    "            new_file_name = file.replace(file_extension, '.png')\n",
    "            new_file_name = fishes[tmp_filename[len(tmp_filename) - 1]] + '_' + new_file_name\n",
    "            destination_file_path = os.path.join(destination_directory_path, new_file_name)\n",
    "            # move the file to the destination folder with the desired new name\n",
    "            \n",
    "            new_file_prefix = shutil.copy(source_file_path, destination_file_path)\n",
    "            # convert the file to png if needed\n",
    "            if file_extension == '.jpg':\n",
    "                im = Image.open(destination_file_path)\n",
    "                im.save(destination_file_path.replace('.jpg', '.png'))\n",
    "            # rename the file in the destination folder\n",
    "            os.rename(destination_file_path, os.path.join(destination_directory_path, new_file_name))\n",
    "\n",
    "print(mask_folder_list)"
   ]
  },
  {
   "cell_type": "code",
   "execution_count": 2,
   "id": "3b6c560d",
   "metadata": {},
   "outputs": [],
   "source": [
    "#%% FOR DEFINITIVE FINAL DATASET, BUT SAMPLED"
   ]
  },
  {
   "cell_type": "code",
   "execution_count": 26,
   "id": "35361d4b",
   "metadata": {
    "ExecuteTime": {
     "end_time": "2023-06-05T08:38:54.935818Z",
     "start_time": "2023-06-05T08:38:54.635129Z"
    }
   },
   "outputs": [
    {
     "data": {
      "text/html": [
       "<div>\n",
       "<style scoped>\n",
       "    .dataframe tbody tr th:only-of-type {\n",
       "        vertical-align: middle;\n",
       "    }\n",
       "\n",
       "    .dataframe tbody tr th {\n",
       "        vertical-align: top;\n",
       "    }\n",
       "\n",
       "    .dataframe thead th {\n",
       "        text-align: right;\n",
       "    }\n",
       "</style>\n",
       "<table border=\"1\" class=\"dataframe\">\n",
       "  <thead>\n",
       "    <tr style=\"text-align: right;\">\n",
       "      <th></th>\n",
       "      <th>FilePaths</th>\n",
       "      <th>Labels</th>\n",
       "    </tr>\n",
       "  </thead>\n",
       "  <tbody>\n",
       "    <tr>\n",
       "      <th>0</th>\n",
       "      <td>..\\data\\raw\\Fish_Dataset\\Fish_Dataset\\Black Se...</td>\n",
       "      <td>Black Sea Sprat</td>\n",
       "    </tr>\n",
       "    <tr>\n",
       "      <th>1</th>\n",
       "      <td>..\\data\\raw\\Fish_Dataset\\Fish_Dataset\\Black Se...</td>\n",
       "      <td>Black Sea Sprat</td>\n",
       "    </tr>\n",
       "    <tr>\n",
       "      <th>2</th>\n",
       "      <td>..\\data\\raw\\Fish_Dataset\\Fish_Dataset\\Black Se...</td>\n",
       "      <td>Black Sea Sprat</td>\n",
       "    </tr>\n",
       "    <tr>\n",
       "      <th>3</th>\n",
       "      <td>..\\data\\raw\\Fish_Dataset\\Fish_Dataset\\Black Se...</td>\n",
       "      <td>Black Sea Sprat</td>\n",
       "    </tr>\n",
       "    <tr>\n",
       "      <th>4</th>\n",
       "      <td>..\\data\\raw\\Fish_Dataset\\Fish_Dataset\\Black Se...</td>\n",
       "      <td>Black Sea Sprat</td>\n",
       "    </tr>\n",
       "  </tbody>\n",
       "</table>\n",
       "</div>"
      ],
      "text/plain": [
       "                                           FilePaths           Labels\n",
       "0  ..\\data\\raw\\Fish_Dataset\\Fish_Dataset\\Black Se...  Black Sea Sprat\n",
       "1  ..\\data\\raw\\Fish_Dataset\\Fish_Dataset\\Black Se...  Black Sea Sprat\n",
       "2  ..\\data\\raw\\Fish_Dataset\\Fish_Dataset\\Black Se...  Black Sea Sprat\n",
       "3  ..\\data\\raw\\Fish_Dataset\\Fish_Dataset\\Black Se...  Black Sea Sprat\n",
       "4  ..\\data\\raw\\Fish_Dataset\\Fish_Dataset\\Black Se...  Black Sea Sprat"
      ]
     },
     "execution_count": 26,
     "metadata": {},
     "output_type": "execute_result"
    }
   ],
   "source": [
    "import numpy as np \n",
    "import pandas as pd\n",
    "import os\n",
    "from pathlib import Path\n",
    "\n",
    "\n",
    "HAS_MASK = True\n",
    "\n",
    "\n",
    "direc = Path('../data/raw/Fish_Dataset/Fish_Dataset')\n",
    "filepaths = list(direc.glob(r'**/*.png'))\n",
    "Labels = list(map(lambda x: os.path.split(os.path.split(x)[0])[1],filepaths))\n",
    "\n",
    "\n",
    "\n",
    "filepaths = pd.Series(filepaths, name='FilePaths').astype(str)\n",
    "Labels = pd.Series(Labels, name='Labels').astype(str)\n",
    "\n",
    "\n",
    "img_df = pd.merge(filepaths, Labels, right_index = True, left_index = True)\n",
    "\n",
    "mask_df = img_df[ img_df['Labels'].apply(lambda x: x[-2:]=='GT') ]\n",
    "#mask_df=mask_df.sample(frac = 1).reset_index(drop=True)\n",
    "mask_df.head()\n",
    "\n",
    "img_df = img_df[ img_df['Labels'].apply(lambda x: x[-2:]!='GT') ]\n",
    "\n",
    "#Resampling it\n",
    "#img_df=img_df.sample(frac = 1).reset_index(drop=True)\n",
    "#img_df.head()"
   ]
  },
  {
   "cell_type": "code",
   "execution_count": 28,
   "id": "1915f718",
   "metadata": {
    "ExecuteTime": {
     "end_time": "2023-06-05T08:39:03.027082Z",
     "start_time": "2023-06-05T08:39:03.011701Z"
    }
   },
   "outputs": [],
   "source": [
    "if HAS_LIMIT:\n",
    "    samples = img_df.groupby('Labels').head(10).reset_index()\n",
    "    samples_mask = mask_df.groupby('Labels').head(10).reset_index()\n",
    "else:\n",
    "    samples = img_df.groupby('Labels')\n",
    "    samples_mask = mask_df.groupby('Labels')"
   ]
  },
  {
   "cell_type": "code",
   "execution_count": 29,
   "id": "efc0303b",
   "metadata": {
    "ExecuteTime": {
     "end_time": "2023-06-05T08:39:05.246970Z",
     "start_time": "2023-06-05T08:39:05.241451Z"
    }
   },
   "outputs": [],
   "source": [
    "fishes = {\n",
    "'Black Sea Sprat': '000',\n",
    "'Gilt-Head Bream': '001',\n",
    "'Hourse Mackerel': '002',\n",
    "'Red Mullet': '003',\n",
    "'Red Sea Bream': '004',\n",
    "'Sea Bass': '005',\n",
    "'Shrimp': '006',\n",
    "'Striped Red Mullet': '007',\n",
    "'Trout': '008'\n",
    "}\n",
    "\n",
    "fishes_mask = {\n",
    "'Black Sea Sprat GT': '000',\n",
    "'Gilt-Head Bream GT': '001',\n",
    "'Hourse Mackerel GT': '002',\n",
    "'Red Mullet GT': '003',\n",
    "'Red Sea Bream GT': '004',\n",
    "'Sea Bass GT': '005',\n",
    "'Shrimp GT': '006',\n",
    "'Striped Red Mullet GT': '007',\n",
    "'Trout GT': '008'\n",
    "}"
   ]
  },
  {
   "cell_type": "code",
   "execution_count": 30,
   "id": "3f137cd8",
   "metadata": {
    "ExecuteTime": {
     "end_time": "2023-06-05T08:39:09.073006Z",
     "start_time": "2023-06-05T08:39:06.594698Z"
    }
   },
   "outputs": [],
   "source": [
    "# TODO: VARIAR BACKGROUND\n",
    "\n",
    "destination_directory_path = '../data/raw/SAMPLES/fishes'\n",
    "\n",
    "# create the destination directory if it does not exist\n",
    "if not os.path.exists(destination_directory_path):\n",
    "    os.makedirs(destination_directory_path)\n",
    "\n",
    "for index, row in samples.iterrows():\n",
    "    # construct the source file path and the destination file path with the desired new name based on the prefix in the specified column\n",
    "    source_file_path = row['FilePaths']\n",
    "    tmp_file_name = row['FilePaths'].split(os.sep)\n",
    "    new_file_name = fishes[row['Labels']] + '_' + tmp_file_name[len(tmp_file_name) - 1]\n",
    "    destination_file_path = os.path.join(destination_directory_path, new_file_name)\n",
    "    # copy the file to the destination folder with the desired new name\n",
    "    shutil.copy(source_file_path, destination_file_path)\n",
    "    \n",
    "    \n",
    "# MASK    \n",
    "destination_directory_path = '../data/raw/SAMPLES/mask'\n",
    "\n",
    "# create the destination directory if it does not exist\n",
    "if not os.path.exists(destination_directory_path):\n",
    "    os.makedirs(destination_directory_path)\n",
    "\n",
    "for index, row in samples_mask.iterrows():\n",
    "    # construct the source file path and the destination file path with the desired new name based on the prefix in the specified column\n",
    "    source_file_path = row['FilePaths']\n",
    "    tmp_file_name = row['FilePaths'].split(os.sep)\n",
    "    new_file_name = fishes_mask[row['Labels']] + '_' + tmp_file_name[len(tmp_file_name) - 1]\n",
    "    destination_file_path = os.path.join(destination_directory_path, new_file_name)\n",
    "    # copy the file to the destination folder with the desired new name\n",
    "    shutil.copy(source_file_path, destination_file_path)    "
   ]
  },
  {
   "cell_type": "code",
   "execution_count": 33,
   "id": "c0e40d6b-be56-4613-bce0-338816308964",
   "metadata": {
    "ExecuteTime": {
     "end_time": "2023-06-05T08:40:54.292417Z",
     "start_time": "2023-06-05T08:40:52.664122Z"
    }
   },
   "outputs": [],
   "source": [
    "from PIL import Image\n",
    "import os\n",
    "\n",
    "path = \"../data/raw/SAMPLES/fishes\"\n",
    "save_path = \"../data/raw/SAMPLES_224/fishes\"\n",
    "\n",
    "if not os.path.exists(save_path):\n",
    "    os.makedirs(save_path)\n",
    "    \n",
    "files = os.listdir(path)\n",
    "for file in files:\n",
    "    if file.endswith('.png'):\n",
    "        im = Image.open(os.path.join(path, file))\n",
    "        im_resized = im.resize((224, 168)) # 590 x 445 \n",
    "        im_resized.save(os.path.join(save_path, file))\n",
    "        \n",
    "path = \"../data/raw/SAMPLES/mask\"\n",
    "save_path = \"../data/raw/SAMPLES_224/mask\"\n",
    "\n",
    "if not os.path.exists(save_path):\n",
    "    os.makedirs(save_path)\n",
    "    \n",
    "files = os.listdir(path)\n",
    "for file in files:\n",
    "    if file.endswith('.png'):\n",
    "        im = Image.open(os.path.join(path, file))\n",
    "        im_resized = im.resize((224, 168)) # 590 x 445 \n",
    "        im_resized.save(os.path.join(save_path, file))"
   ]
  }
 ],
 "metadata": {
  "kernelspec": {
   "display_name": "Python 3 (ipykernel)",
   "language": "python",
   "name": "python3"
  },
  "language_info": {
   "codemirror_mode": {
    "name": "ipython",
    "version": 3
   },
   "file_extension": ".py",
   "mimetype": "text/x-python",
   "name": "python",
   "nbconvert_exporter": "python",
   "pygments_lexer": "ipython3",
   "version": "3.10.8"
  },
  "varInspector": {
   "cols": {
    "lenName": 16,
    "lenType": 16,
    "lenVar": 40
   },
   "kernels_config": {
    "python": {
     "delete_cmd_postfix": "",
     "delete_cmd_prefix": "del ",
     "library": "var_list.py",
     "varRefreshCmd": "print(var_dic_list())"
    },
    "r": {
     "delete_cmd_postfix": ") ",
     "delete_cmd_prefix": "rm(",
     "library": "var_list.r",
     "varRefreshCmd": "cat(var_dic_list()) "
    }
   },
   "types_to_exclude": [
    "module",
    "function",
    "builtin_function_or_method",
    "instance",
    "_Feature"
   ],
   "window_display": false
  }
 },
 "nbformat": 4,
 "nbformat_minor": 5
}
